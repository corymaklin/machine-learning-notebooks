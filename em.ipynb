{
 "cells": [
  {
   "cell_type": "markdown",
   "metadata": {},
   "source": [
    "# Machine Learning Sentiment Analysis And Word Embeddings\n",
    "One of the primary applications of machine learning is sentiment analysis. Sentiment analysis is about judging the tone of a document. The output of a sentiment analysis is typically a score between zero and one, where one means the tone is very positive and zero means it is very negative. Sentiment analysis is frequently used for trading. For example, sentiment analysis is applied to the tweets of traders in order to estimate an overall market mood.\n",
    "\n",
    "As one might expect, sentiment analysis is a Natural language Processing (NLP) problem. NLP is a field of artificial intelligence concerned with understanding and processing language. The goal of this article will be to construct a model to derive the semantic meaning of words from documents in the corpus. At a high level, one can imagine us classifying the documents with the word good in them as positive and the word bad as negative. Unfortunately, the problem isn’t that simple since the words can be preceded by not as in not good."
   ]
  },
  {
   "cell_type": "code",
   "execution_count": 1,
   "metadata": {},
   "outputs": [
    {
     "name": "stderr",
     "output_type": "stream",
     "text": [
      "Using TensorFlow backend.\n"
     ]
    }
   ],
   "source": [
    "import numpy as np\n",
    "from matplotlib import pyplot as plt\n",
    "plt.style.use('dark_background')\n",
    "from keras.datasets import imdb\n",
    "from keras.models import Sequential\n",
    "from keras.preprocessing.sequence import pad_sequences\n",
    "from keras.layers import Embedding, GlobalAveragePooling1D, Dense"
   ]
  },
  {
   "cell_type": "markdown",
   "metadata": {},
   "source": [
    "The argument num_words=10000 ensures we only keep the top 10,000 most frequently occurring words in the training set. The rare words are discarded to keep the size of the data manageable."
   ]
  },
  {
   "cell_type": "code",
   "execution_count": 2,
   "metadata": {},
   "outputs": [],
   "source": [
    "num_words = 10000"
   ]
  },
  {
   "cell_type": "markdown",
   "metadata": {},
   "source": [
    "We’ll use the IMDB dataset that contains the text of 50,000 movie reviews from the Internet Movie Database. The latter are split into 25,000 reviews for training and 25,000 reviews for testing. The training and testing sets are balanced, meaning they contain an equal number of positive and negative reviews."
   ]
  },
  {
   "cell_type": "code",
   "execution_count": 3,
   "metadata": {},
   "outputs": [],
   "source": [
    "old = np.load\n",
    "np.load = lambda *a,**k: old(*a,**k, allow_pickle = True)\n",
    "(X_train, y_train), (X_test, y_test) = imdb.load_data(num_words=num_words)\n",
    "np.load = old\n",
    "del(old)"
   ]
  },
  {
   "cell_type": "code",
   "execution_count": 4,
   "metadata": {},
   "outputs": [
    {
     "name": "stdout",
     "output_type": "stream",
     "text": [
      "Training entries: 25000, labels: 25000\n"
     ]
    }
   ],
   "source": [
    "print(\"Training entries: {}, labels: {}\".format(len(X_train), len(y_train)))"
   ]
  },
  {
   "cell_type": "markdown",
   "metadata": {},
   "source": [
    "When we use keras.datasets.imdb to import the dataset into our program, it comes already preprocessed. In other words, every example is a list of integers where each integer represents a specific word in a dictionary and each label is an integer value of either 0 or 1, where 0 is a negative review, and 1 is a positive review. Let’s take a peak at the first review."
   ]
  },
  {
   "cell_type": "code",
   "execution_count": 5,
   "metadata": {},
   "outputs": [
    {
     "name": "stdout",
     "output_type": "stream",
     "text": [
      "[1, 14, 22, 16, 43, 530, 973, 1622, 1385, 65, 458, 4468, 66, 3941, 4, 173, 36, 256, 5, 25, 100, 43, 838, 112, 50, 670, 2, 9, 35, 480, 284, 5, 150, 4, 172, 112, 167, 2, 336, 385, 39, 4, 172, 4536, 1111, 17, 546, 38, 13, 447, 4, 192, 50, 16, 6, 147, 2025, 19, 14, 22, 4, 1920, 4613, 469, 4, 22, 71, 87, 12, 16, 43, 530, 38, 76, 15, 13, 1247, 4, 22, 17, 515, 17, 12, 16, 626, 18, 2, 5, 62, 386, 12, 8, 316, 8, 106, 5, 4, 2223, 5244, 16, 480, 66, 3785, 33, 4, 130, 12, 16, 38, 619, 5, 25, 124, 51, 36, 135, 48, 25, 1415, 33, 6, 22, 12, 215, 28, 77, 52, 5, 14, 407, 16, 82, 2, 8, 4, 107, 117, 5952, 15, 256, 4, 2, 7, 3766, 5, 723, 36, 71, 43, 530, 476, 26, 400, 317, 46, 7, 4, 2, 1029, 13, 104, 88, 4, 381, 15, 297, 98, 32, 2071, 56, 26, 141, 6, 194, 7486, 18, 4, 226, 22, 21, 134, 476, 26, 480, 5, 144, 30, 5535, 18, 51, 36, 28, 224, 92, 25, 104, 4, 226, 65, 16, 38, 1334, 88, 12, 16, 283, 5, 16, 4472, 113, 103, 32, 15, 16, 5345, 19, 178, 32]\n"
     ]
    }
   ],
   "source": [
    "print(X_train[0])"
   ]
  },
  {
   "cell_type": "markdown",
   "metadata": {},
   "source": [
    "Given that every word in a document will be interpreted as a feature, we must ensure the movie reviews are the same length before attempting to feed them into a neural network."
   ]
  },
  {
   "cell_type": "code",
   "execution_count": 6,
   "metadata": {},
   "outputs": [
    {
     "data": {
      "text/plain": [
       "(218, 189)"
      ]
     },
     "execution_count": 6,
     "metadata": {},
     "output_type": "execute_result"
    }
   ],
   "source": [
    "len(X_train[0]), len(X_train[1])"
   ]
  },
  {
   "cell_type": "code",
   "execution_count": 7,
   "metadata": {},
   "outputs": [],
   "source": [
    "word_index = imdb.get_word_index()\n",
    "\n",
    "# The first indices are reserved\n",
    "word_index = {k:(v+3) for k,v in word_index.items()} \n",
    "word_index[\"<PAD>\"] = 0\n",
    "word_index[\"<START>\"] = 1\n",
    "word_index[\"<UNK>\"] = 2  # unknown\n",
    "word_index[\"<UNUSED>\"] = 3\n",
    "\n",
    "reverse_word_index = dict([(value, key) for (key, value) in word_index.items()])\n",
    "\n",
    "def decode_review(text):\n",
    "    return ' '.join([reverse_word_index.get(i, '?') for i in text])"
   ]
  },
  {
   "cell_type": "code",
   "execution_count": 8,
   "metadata": {},
   "outputs": [
    {
     "data": {
      "text/plain": [
       "\"<START> this film was just brilliant casting location scenery story direction everyone's really suited the part they played and you could just imagine being there robert <UNK> is an amazing actor and now the same being director <UNK> father came from the same scottish island as myself so i loved the fact there was a real connection with this film the witty remarks throughout the film were great it was just brilliant so much that i bought the film as soon as it was released for <UNK> and would recommend it to everyone to watch and the fly fishing was amazing really cried at the end it was so sad and you know what they say if you cry at a film it must have been good and this definitely was also <UNK> to the two little boy's that played the <UNK> of norman and paul they were just brilliant children are often left out of the <UNK> list i think because the stars that play them all grown up are such a big profile for the whole film but these children are amazing and should be praised for what they have done don't you think the whole story was so lovely because it was true and was someone's life after all that was shared with us all\""
      ]
     },
     "execution_count": 8,
     "metadata": {},
     "output_type": "execute_result"
    }
   ],
   "source": [
    "decode_review(X_train[0])"
   ]
  },
  {
   "cell_type": "code",
   "execution_count": 9,
   "metadata": {},
   "outputs": [],
   "source": [
    "X_train = pad_sequences(\n",
    "    X_train,\n",
    "    value=word_index[\"<PAD>\"],\n",
    "    padding='post',\n",
    "    maxlen=256\n",
    ")\n",
    "\n",
    "X_test = pad_sequences(\n",
    "    X_test,\n",
    "    value=word_index[\"<PAD>\"],\n",
    "    padding='post',\n",
    "    maxlen=256\n",
    ")"
   ]
  },
  {
   "cell_type": "code",
   "execution_count": 10,
   "metadata": {},
   "outputs": [
    {
     "data": {
      "text/plain": [
       "(256, 256)"
      ]
     },
     "execution_count": 10,
     "metadata": {},
     "output_type": "execute_result"
    }
   ],
   "source": [
    "len(X_train[0]), len(X_train[1])"
   ]
  },
  {
   "cell_type": "markdown",
   "metadata": {},
   "source": [
    "As the attuned reader might have already guessed, words are categorical features. As such, we can not directly feed them into the neural network. Although they’re already encoded as integers, if we left them the way they are, the model would interpret the integers with a higher values as having a higher priority than the ones with lower values. Normally, you’d get around this problem by converting the arrays into vectors of 0s and 1s indicating word occurrence, similar to one hot encoding, but for words, this is memory intensive. Given a vocabulary of 10,000 words, we’d need to store num_words * num_reviews size matrix in RAM.\n",
    "\n",
    "## Embeddings\n",
    "\n",
    "This is where embeddings come in to play. Embeddings solve the core problems of sparse input data (very large vectors with relatively few non-zero values) by mapping our high-dimensional data into a lower-dimensional space (similar to PCA).\n",
    "\n",
    "For example, suppose we had a corpus composed of the following two sentences.\n",
    "\n",
    "    Hope to see you soon\n",
    "    Nice to see you again\n",
    "\n",
    "Just like the IMDB dataset, we can assign each word a unique integer.\n",
    "```\n",
    "[0, 1, 2, 3, 4]\n",
    "\n",
    "[5, 1, 2, 3, 6]\n",
    "```\n",
    "Next, we can define an embedding layer.\n",
    "\n",
    "`embedding(input_dim=7, output_dim=2, input_length=5)`\n",
    "\n",
    "    input_dim: The size of the vocabulary (i.e. number of distinct words) in the training set\n",
    "    output_dim: The size of the embedding vectors\n",
    "    input_length: The number of features in a sample (i.e. number of words in each document). For example, if all of our documents are comprised of 1000 words, the input length would be 1000.\n",
    "    \n",
    "Embeddings work like a look up table. Every token (i.e. word) acts as an index which stores a vector. When a token is given to the embedding layer, it returns the vector associated to that token and passes it through the neural network. As the network trains, the embeddings are optimized as well.\n",
    "\n",
    "```\n",
    "+------------+------------+\n",
    "|   index    |  Embedding |\n",
    "+------------+------------+\n",
    "|     0      | [1.2, 3.1] |\n",
    "|     1      | [0.1, 4.2] |\n",
    "|     2      | [1.0, 3.1] |\n",
    "|     3      | [0.3, 2.1] |\n",
    "|     4      | [2.2, 1.4] |\n",
    "|     5      | [0.7, 1.7] |\n",
    "|     6      | [4.1, 2.0] |\n",
    "+------------+------------+\n",
    "```\n",
    "\n",
    "Say, we had the following two dimensional embedding vector for the word Teacher.\n",
    "\n",
    "![alt text](./images/1.png)\n",
    "\n",
    "We could imagine a two dimensional space where similar words (i.e. school, tutor) are clustered together.\n",
    "\n",
    "![alt text](./images/2.png)\n",
    "\n",
    "In our example, we use embedding vectors with 16 dimensions. Thus, we might find that the words enjoyed, liked and fantastic are in close proximity to one another. Our model can then learn to classify the reviews whose words map to embedding vectors which are close to each other in the 16 dimensional space as positive"
   ]
  },
  {
   "cell_type": "code",
   "execution_count": 11,
   "metadata": {},
   "outputs": [
    {
     "name": "stdout",
     "output_type": "stream",
     "text": [
      "_________________________________________________________________\n",
      "Layer (type)                 Output Shape              Param #   \n",
      "=================================================================\n",
      "embedding_1 (Embedding)      (None, None, 16)          160000    \n",
      "_________________________________________________________________\n",
      "global_average_pooling1d_1 ( (None, 16)                0         \n",
      "_________________________________________________________________\n",
      "dense_1 (Dense)              (None, 16)                272       \n",
      "_________________________________________________________________\n",
      "dense_2 (Dense)              (None, 1)                 17        \n",
      "=================================================================\n",
      "Total params: 160,289\n",
      "Trainable params: 160,289\n",
      "Non-trainable params: 0\n",
      "_________________________________________________________________\n"
     ]
    }
   ],
   "source": [
    "model = Sequential()\n",
    "model.add(Embedding(num_words, 16))\n",
    "model.add(GlobalAveragePooling1D())\n",
    "model.add(Dense(16, activation='relu'))\n",
    "model.add(Dense(1, activation='sigmoid'))\n",
    "\n",
    "model.summary()"
   ]
  },
  {
   "cell_type": "code",
   "execution_count": 12,
   "metadata": {},
   "outputs": [],
   "source": [
    "model.compile(\n",
    "    optimizer='adam',\n",
    "    loss='binary_crossentropy',\n",
    "    metrics=['acc']\n",
    ")"
   ]
  },
  {
   "cell_type": "code",
   "execution_count": 13,
   "metadata": {},
   "outputs": [
    {
     "name": "stdout",
     "output_type": "stream",
     "text": [
      "Train on 22500 samples, validate on 2500 samples\n",
      "Epoch 1/20\n",
      "22500/22500 [==============================] - 2s 73us/step - loss: 0.6905 - acc: 0.6301 - val_loss: 0.6853 - val_acc: 0.7512\n",
      "Epoch 2/20\n",
      "22500/22500 [==============================] - 0s 22us/step - loss: 0.6746 - acc: 0.7456 - val_loss: 0.6593 - val_acc: 0.7520\n",
      "Epoch 3/20\n",
      "22500/22500 [==============================] - 0s 22us/step - loss: 0.6361 - acc: 0.7776 - val_loss: 0.6098 - val_acc: 0.7804\n",
      "Epoch 4/20\n",
      "22500/22500 [==============================] - 0s 22us/step - loss: 0.5745 - acc: 0.8091 - val_loss: 0.5435 - val_acc: 0.8068\n",
      "Epoch 5/20\n",
      "22500/22500 [==============================] - 0s 22us/step - loss: 0.5031 - acc: 0.8324 - val_loss: 0.4788 - val_acc: 0.8332\n",
      "Epoch 6/20\n",
      "22500/22500 [==============================] - 0s 22us/step - loss: 0.4358 - acc: 0.8577 - val_loss: 0.4255 - val_acc: 0.8520\n",
      "Epoch 7/20\n",
      "22500/22500 [==============================] - 0s 22us/step - loss: 0.3822 - acc: 0.8726 - val_loss: 0.3863 - val_acc: 0.8612\n",
      "Epoch 8/20\n",
      "22500/22500 [==============================] - 0s 21us/step - loss: 0.3409 - acc: 0.8840 - val_loss: 0.3591 - val_acc: 0.8656\n",
      "Epoch 9/20\n",
      "22500/22500 [==============================] - 0s 22us/step - loss: 0.3098 - acc: 0.8928 - val_loss: 0.3388 - val_acc: 0.8728\n",
      "Epoch 10/20\n",
      "22500/22500 [==============================] - 0s 22us/step - loss: 0.2851 - acc: 0.9002 - val_loss: 0.3257 - val_acc: 0.8740\n",
      "Epoch 11/20\n",
      "22500/22500 [==============================] - 0s 20us/step - loss: 0.2653 - acc: 0.9055 - val_loss: 0.3135 - val_acc: 0.8792\n",
      "Epoch 12/20\n",
      "22500/22500 [==============================] - 1s 23us/step - loss: 0.2482 - acc: 0.9116 - val_loss: 0.3050 - val_acc: 0.8824\n",
      "Epoch 13/20\n",
      "22500/22500 [==============================] - 0s 21us/step - loss: 0.2337 - acc: 0.9174 - val_loss: 0.2987 - val_acc: 0.8840\n",
      "Epoch 14/20\n",
      "22500/22500 [==============================] - 1s 22us/step - loss: 0.2205 - acc: 0.9232 - val_loss: 0.2940 - val_acc: 0.8832\n",
      "Epoch 15/20\n",
      "22500/22500 [==============================] - 0s 22us/step - loss: 0.2089 - acc: 0.9274 - val_loss: 0.2904 - val_acc: 0.8848\n",
      "Epoch 16/20\n",
      "22500/22500 [==============================] - 0s 19us/step - loss: 0.1988 - acc: 0.9310 - val_loss: 0.2887 - val_acc: 0.8852\n",
      "Epoch 17/20\n",
      "22500/22500 [==============================] - 1s 24us/step - loss: 0.1894 - acc: 0.9345 - val_loss: 0.2882 - val_acc: 0.8852\n",
      "Epoch 18/20\n",
      "22500/22500 [==============================] - 0s 21us/step - loss: 0.1807 - acc: 0.9375 - val_loss: 0.2863 - val_acc: 0.8916\n",
      "Epoch 19/20\n",
      "22500/22500 [==============================] - 0s 22us/step - loss: 0.1727 - acc: 0.9405 - val_loss: 0.2853 - val_acc: 0.8932\n",
      "Epoch 20/20\n",
      "22500/22500 [==============================] - 0s 20us/step - loss: 0.1653 - acc: 0.9438 - val_loss: 0.2856 - val_acc: 0.8948\n"
     ]
    }
   ],
   "source": [
    "history = model.fit(\n",
    "    X_train,\n",
    "    y_train,\n",
    "    epochs=20,\n",
    "    batch_size=512,\n",
    "    validation_split=0.1,\n",
    "    shuffle=True\n",
    ")"
   ]
  },
  {
   "cell_type": "code",
   "execution_count": 14,
   "metadata": {},
   "outputs": [
    {
     "data": {
      "image/png": "[encoded data removed]",
      "text/plain": [
       "<Figure size 432x288 with 1 Axes>"
      ]
     },
     "metadata": {
      "needs_background": "dark"
     },
     "output_type": "display_data"
    }
   ],
   "source": [
    "loss = history.history['loss']\n",
    "val_loss = history.history['val_loss']\n",
    "epochs = range(1, len(loss) + 1)\n",
    "plt.plot(epochs, loss, 'y', label='Training loss')\n",
    "plt.plot(epochs, val_loss, 'r', label='Validation loss')\n",
    "plt.title('Training and validation loss')\n",
    "plt.xlabel('Epochs')\n",
    "plt.ylabel('Loss')\n",
    "plt.legend()\n",
    "plt.show()"
   ]
  },
  {
   "cell_type": "code",
   "execution_count": 15,
   "metadata": {},
   "outputs": [
    {
     "data": {
      "image/png": "[encoded data removed]",
      "text/plain": [
       "<Figure size 432x288 with 1 Axes>"
      ]
     },
     "metadata": {
      "needs_background": "dark"
     },
     "output_type": "display_data"
    }
   ],
   "source": [
    "acc = history.history['acc']\n",
    "val_acc = history.history['val_acc']\n",
    "plt.plot(epochs, acc, 'y', label='Training acc')\n",
    "plt.plot(epochs, val_acc, 'r', label='Validation acc')\n",
    "plt.title('Training and validation accuracy')\n",
    "plt.xlabel('Epochs')\n",
    "plt.ylabel('Accuracy')\n",
    "plt.legend()\n",
    "plt.show()"
   ]
  },
  {
   "cell_type": "code",
   "execution_count": 16,
   "metadata": {},
   "outputs": [
    {
     "name": "stdout",
     "output_type": "stream",
     "text": [
      "25000/25000 [==============================] - 1s 52us/step\n",
      "0.88072\n"
     ]
    }
   ],
   "source": [
    "test_loss, test_acc = model.evaluate(X_test, y_test)\n",
    "print(test_acc)"
   ]
  },
  {
   "cell_type": "markdown",
   "metadata": {},
   "source": [
    "## Final Thoughts\n",
    "\n",
    "When we’re working with categorical features with a lot of categories (i.e. words), we want to avoid using one hot encoding as it requires us to store a large matrix in memory and train a lot of parameters. Instead we can map each category to a n dimension embedding vector and train our machine learning model using the embedding vectors as input."
   ]
  }
 ],
 "metadata": {
  "kernelspec": {
   "display_name": "Python 3",
   "language": "python",
   "name": "python3"
  },
  "language_info": {
   "codemirror_mode": {
    "name": "ipython",
    "version": 3
   },
   "file_extension": ".py",
   "mimetype": "text/x-python",
   "name": "python",
   "nbconvert_exporter": "python",
   "pygments_lexer": "ipython3",
   "version": "3.6.8"
  }
 },
 "nbformat": 4,
 "nbformat_minor": 2
}
