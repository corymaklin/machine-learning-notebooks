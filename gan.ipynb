{
 "cells": [
  {
   "cell_type": "code",
   "execution_count": null,
   "metadata": {},
   "outputs": [],
   "source": [
    "from keras.datasets import mnist\n",
    "from keras.layers import Input, Dense, Reshape, Flatten, Dropout\n",
    "from keras.layers import BatchNormalization, Activation\n",
    "from keras.layers.advanced_activations import LeakyReLU\n",
    "from keras.models import Sequential, Model\n",
    "from keras.optimizers import Adam\n",
    "import matplotlib.pyplot as plt\n",
    "import sys\n",
    "import numpy as np"
   ]
  },
  {
   "cell_type": "code",
   "execution_count": null,
   "metadata": {},
   "outputs": [],
   "source": [
    "class GAN():\n",
    "    def __init__(self):\n",
    "        self.image_rows = 28\n",
    "        self.image_cols = 28\n",
    "        self.channels = 1\n",
    "        self.image_shape = (self.image_rows, self.image_cols, self.channels)\n",
    "        self.input_dim = 100\n",
    "        optimizer = Adam(0.0002, 0.5)\n",
    "        self.discriminator = self.build_discriminator()\n",
    "        self.discriminator.compile(loss='binary_crossentropy', optimizer=optimizer, metrics=['accuracy'])\n",
    "        self.generator = self.build_generator()\n",
    "        _in = Input(shape=(self.input_dim,))\n",
    "        image = self.generator(_in)\n",
    "        self.discriminator.trainable = False\n",
    "        validity = self.discriminator(image)\n",
    "        self.combined = Model(_in, validity)\n",
    "        self.combined.compile(loss='binary_crossentropy', optimizer=optimizer)"
   ]
  },
  {
   "cell_type": "code",
   "execution_count": null,
   "metadata": {},
   "outputs": [],
   "source": [
    "def build_generator(self):\n",
    "        model = Sequential()\n",
    "        model.add(Dense(256, input_dim=self.input_dim))\n",
    "        model.add(LeakyReLU(alpha=0.2))\n",
    "        model.add(BatchNormalization(momentum=0.8))\n",
    "        model.add(Dense(512))\n",
    "        model.add(LeakyReLU(alpha=0.2))\n",
    "        model.add(BatchNormalization(momentum=0.8))\n",
    "        model.add(Dense(1024))\n",
    "        model.add(LeakyReLU(alpha=0.2))\n",
    "        model.add(BatchNormalization(momentum=0.8))\n",
    "        model.add(Dense(np.prod(self.image_shape), activation='tanh'))\n",
    "        model.add(Reshape(self.image_shape))\n",
    "        model.summary()\n",
    "        noise = Input(shape=(self.input_dim,))\n",
    "        image = model(noise)\n",
    "        return Model(noise, image)"
   ]
  },
  {
   "cell_type": "code",
   "execution_count": null,
   "metadata": {},
   "outputs": [],
   "source": [
    "def build_discriminator(self):\n",
    "        model = Sequential()\n",
    "        model.add(Flatten(input_shape=self.image_shape))\n",
    "        model.add(Dense(512))\n",
    "        model.add(LeakyReLU(alpha=0.2))\n",
    "        model.add(Dense(256))\n",
    "        model.add(LeakyReLU(alpha=0.2))\n",
    "        model.add(Dense(1, activation='sigmoid'))\n",
    "        model.summary()\n",
    "        image = Input(shape=self.image_shape)\n",
    "        validity = model(image)\n",
    "        return Model(image, validity)"
   ]
  },
  {
   "cell_type": "code",
   "execution_count": null,
   "metadata": {},
   "outputs": [],
   "source": [
    "def train(self, epochs, batch_size=128, sample_interval=50):\n",
    "    (X_train, _), (_, _) = mnist.load_data()\n",
    "    X_train = X_train / 127.5 - 1.\n",
    "    X_train = np.expand_dims(X_train, axis=3)\n",
    "    valid = np.ones((batch_size, 1))\n",
    "    fake = np.zeros((batch_size, 1))\n",
    "    for epoch in range(epochs):\n",
    "        index = np.random.randint(0, X_train.shape[0], batch_size)\n",
    "        images = X_train[index]\n",
    "        noise = np.random.normal(0, 1, (batch_size, self.input_dim))\n",
    "        gen_images = self.generator.predict(noise)\n",
    "        d_loss_real = self.discriminator.train_on_batch(images, valid)\n",
    "        d_loss_fake = self.discriminator.train_on_batch(gen_images, fake)\n",
    "        d_loss = 0.5 * np.add(d_loss_real, d_loss_fake)\n",
    "        noise = np.random.normal(0, 1, (batch_size, self.input_dim))\n",
    "        g_loss = self.combined.train_on_batch(noise, valid)\n",
    "        print (\"%d [Discriminator loss: %f, acc.: %.2f%%] [Generator loss: %f]\" % (epoch, d_loss[0], 100*d_loss[1], g_loss))\n",
    "        if epoch % sample_interval == 0:\n",
    "               self.sample_images(epoch)"
   ]
  },
  {
   "cell_type": "code",
   "execution_count": null,
   "metadata": {},
   "outputs": [],
   "source": [
    "def sample_images(self, epoch):\n",
    "        r, c = 5, 5\n",
    "        noise = np.random.normal(0, 1, (r * c, self.input_dim))\n",
    "        gen_images = self.generator.predict(noise)\n",
    "        gen_images = 0.5 * gen_images + 0.5\n",
    "        fig, axs = plt.subplots(r, c)\n",
    "        count = 0\n",
    "        for i in range(r):\n",
    "            for j in range(c):\n",
    "                axs[i,j].imshow(gen_images[count, :,:,0], cmap='gray')\n",
    "                axs[i,j].axis('off')\n",
    "                count += 1\n",
    "        fig.savefig(\"images/%d.png\" % epoch)\n",
    "        plt.close()"
   ]
  },
  {
   "cell_type": "code",
   "execution_count": null,
   "metadata": {},
   "outputs": [],
   "source": [
    "gan = GAN()\n",
    "gan.train(epochs=100000, batch_size=128, sample_interval=10000)"
   ]
  }
 ],
 "metadata": {
  "kernelspec": {
   "display_name": "Python 3",
   "language": "python",
   "name": "python3"
  },
  "language_info": {
   "codemirror_mode": {
    "name": "ipython",
    "version": 3
   },
   "file_extension": ".py",
   "mimetype": "text/x-python",
   "name": "python",
   "nbconvert_exporter": "python",
   "pygments_lexer": "ipython3",
   "version": "3.7.3"
  }
 },
 "nbformat": 4,
 "nbformat_minor": 2
}
