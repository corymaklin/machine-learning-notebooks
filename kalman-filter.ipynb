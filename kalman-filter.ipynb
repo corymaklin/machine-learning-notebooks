{
 "cells": [
  {
   "cell_type": "code",
   "execution_count": 4,
   "metadata": {},
   "outputs": [],
   "source": [
    "import numpy as np\n",
    "from matplotlib import pyplot as plt"
   ]
  },
  {
   "cell_type": "code",
   "execution_count": 15,
   "metadata": {},
   "outputs": [],
   "source": []
  },
  {
   "cell_type": "code",
   "execution_count": 31,
   "metadata": {},
   "outputs": [],
   "source": [
    "class KalmanFilter:\n",
    "    def __init__(self, initial_position, initial_velocity):\n",
    "            \n",
    "        self.x = np.array([initial_position, initial_velocity])\n",
    "        self.P = np.eye(2)\n",
    "\n",
    "    def predict(self, dt, Q, u):\n",
    "        # x_{k} = F_{k} x_{k-1} + B_{k} \\vec{u_{k}}\n",
    "        # P_{k} = F_{k} P_{k-1} F_{k}^{T} + Q_{k}\n",
    "        \n",
    "        F = np.array([[1, dt], [0, 1]])\n",
    "        B = np.array([(dt**2)/2, dt])\n",
    "        new_x = F.dot(self.x) + B.dot(u)\n",
    "        new_P = F.dot(self.P).dot(F.T) + Q\n",
    "        \n",
    "    def update(self, measurement_value, measurement_variance):\n",
    "        # {K}' = P_{k} H_{k}^{T} (H_{k} P_{k} H_{k}^{T} + R_{k})^{-1}\n",
    "        # {x_{k}}' = x_{k} + {K}' (\\vec{z_{k}} - H_{k} x_{k})\n",
    "        # {P_{k}}' = P_{k} - {K}' H_{k} P_{k}\n",
    "    \n",
    "        H = np.array([1, 0]).reshape((1, 2))\n",
    "\n",
    "        z = np.array([measurement_value])\n",
    "        R = np.array([measurement_variance])\n",
    "\n",
    "        K = self.P.dot(H.T).dot(np.linalg.inv(H.dot(self.P).dot(H.T) + R))\n",
    "        new_x = self.x + K.dot(z - H.dot(self.x))\n",
    "        new_P = self.P - K.dot(H).dot(self.P)\n",
    "        \n",
    "    @property\n",
    "    def cov(self) -> np.array:\n",
    "        return self.P\n",
    "\n",
    "    @property\n",
    "    def mean(self) -> np.array:\n",
    "        return self.x"
   ]
  },
  {
   "cell_type": "code",
   "execution_count": 32,
   "metadata": {},
   "outputs": [],
   "source": [
    "def main():\n",
    "    \n",
    "    u = 1\n",
    "    Q = 1\n",
    "    real_position = 0.0\n",
    "    real_velocity = 0.5\n",
    "    real_acceleration = 0\n",
    "    measurement_variance = 0.1 ** 2\n",
    "    dt = 0.1\n",
    "\n",
    "    initial_position=0.0\n",
    "    initial_velocity=1.0,\n",
    "\n",
    "    MEASURE_EVERY_STEPS = 20\n",
    "    NUM_STEPS = 1000\n",
    "\n",
    "    mus = []\n",
    "    covs = []\n",
    "    real_positions = []\n",
    "    real_velocities = []\n",
    "    \n",
    "    kerman_filter = KalmanFilter(initial_position=0.0, initial_velocity=1.0)\n",
    "\n",
    "    for step in range(NUM_STEPS):\n",
    "\n",
    "        real_position = real_position + dt * real_velocity\n",
    "        real_velocity = real_velocity + dt * real_acceleration\n",
    "\n",
    "        covs.append(kerman_filter.cov)\n",
    "        mus.append(kerman_filter.mean)\n",
    "\n",
    "        kerman_filter.predict(dt, Q, u)\n",
    "\n",
    "        if step != 0 and step % MEASURE_EVERY_STEPS == 0:\n",
    "            kerman_filter.update(\n",
    "                measurement_value=real_position + np.random.randn() * np.sqrt(measurement_variance),\n",
    "                measurement_variance=measurement_variance\n",
    "            )\n",
    "\n",
    "        real_positions.append(real_position)\n",
    "        real_velocities.append(real_velocity)\n",
    "\n",
    "\n",
    "if __name__ == \"__main__\":\n",
    "    main()"
   ]
  },
  {
   "cell_type": "code",
   "execution_count": 34,
   "metadata": {},
   "outputs": [
    {
     "data": {
      "text/plain": [
       "[<matplotlib.lines.Line2D at 0x1169b9710>]"
      ]
     },
     "execution_count": 34,
     "metadata": {},
     "output_type": "execute_result"
    },
    {
     "data": {
      "image/png": "[encoded data removed]",
      "text/plain": [
       "<Figure size 432x288 with 2 Axes>"
      ]
     },
     "metadata": {
      "needs_background": "light"
     },
     "output_type": "display_data"
    }
   ],
   "source": [
    "plt.subplot(2, 1, 1)\n",
    "plt.title('Position')\n",
    "plt.plot([mu[0] for mu in mus], 'r')\n",
    "plt.plot(real_positions, 'b')\n",
    "plt.plot([mu[0] - 2*np.sqrt(cov[0,0]) for mu, cov in zip(mus,covs)], 'r--')\n",
    "plt.plot([mu[0] + 2*np.sqrt(cov[0,0]) for mu, cov in zip(mus,covs)], 'r--')\n",
    "\n",
    "plt.subplot(2, 1, 2)\n",
    "plt.title('Velocity')\n",
    "plt.plot(real_velocities, 'b')\n",
    "plt.plot([mu[1] for mu in mus], 'r')\n",
    "plt.plot([mu[1] - 2*np.sqrt(cov[1,1]) for mu, cov in zip(mus,covs)], 'r--')\n",
    "plt.plot([mu[1] + 2*np.sqrt(cov[1,1]) for mu, cov in zip(mus,covs)], 'r--')"
   ]
  },
  {
   "cell_type": "code",
   "execution_count": null,
   "metadata": {},
   "outputs": [],
   "source": []
  }
 ],
 "metadata": {
  "kernelspec": {
   "display_name": "Python 3",
   "language": "python",
   "name": "python3"
  },
  "language_info": {
   "codemirror_mode": {
    "name": "ipython",
    "version": 3
   },
   "file_extension": ".py",
   "mimetype": "text/x-python",
   "name": "python",
   "nbconvert_exporter": "python",
   "pygments_lexer": "ipython3",
   "version": "3.7.6"
  }
 },
 "nbformat": 4,
 "nbformat_minor": 4
}
